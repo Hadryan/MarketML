{
 "cells": [
  {
   "cell_type": "markdown",
   "metadata": {
    "collapsed": true,
    "pycharm": {
     "name": "#%% md\n"
    }
   },
   "source": [
    "# Stock Price Prediction Transformer\n",
    "> Transformer architecture utilized for learning and predicting stock price time series\n",
    "> data, incorporating _Time2Vec_ vectorization of the time dimension.\n",
    "\n",
    "#### Sources\n",
    "1.  https://towardsdatascience.com/stock-predictions-with-state-of-the-art-transformer-and-time-embeddings-3a4485237de6"
   ]
  },
  {
   "cell_type": "code",
   "execution_count": 1,
   "outputs": [
    {
     "output_type": "stream",
     "name": "stderr",
     "text": "[I 200713 01:58:54 __init__:15] Project directory: /Users/taras/Code/projects/MarketML\n"
    }
   ],
   "source": [
    "import sqlite3\n",
    "import warnings\n",
    "\n",
    "import numpy as np\n",
    "import pandas as pd\n",
    "import pendulum as pdl\n",
    "import plotly as plt\n",
    "import tensorflow as tf\n",
    "from tensorflow.keras.models import Model\n",
    "from tensorflow.keras.layers import *\n",
    "\n",
    "import marketml\n",
    "\n",
    "warnings.filterwarnings(\"ignore\")"
   ],
   "metadata": {
    "collapsed": false,
    "pycharm": {
     "name": "#%%\n"
    },
    "tags": []
   }
  },
  {
   "cell_type": "markdown",
   "source": [
    "## Hyperparameters"
   ],
   "metadata": {
    "collapsed": false,
    "pycharm": {
     "name": "#%% md\n"
    }
   }
  },
  {
   "cell_type": "code",
   "execution_count": 2,
   "outputs": [],
   "source": [
    "batch_size = 16\n",
    "sequence_length = 32\n",
    "num_heads = 6"
   ],
   "metadata": {
    "collapsed": false,
    "pycharm": {
     "name": "#%%\n"
    }
   }
  },
  {
   "cell_type": "markdown",
   "source": [
    "## Load Data"
   ],
   "metadata": {
    "collapsed": false,
    "pycharm": {
     "name": "#%% md\n"
    }
   }
  },
  {
   "cell_type": "code",
   "execution_count": 3,
   "outputs": [
    {
     "output_type": "execute_result",
     "data": {
      "text/plain": "              open    high     low   close   volume\ndate                                               \n2000-03-23  142.00  150.38  140.00  141.31  5022900\n2000-03-24  142.44  143.94  135.50  138.69  3990300\n2000-03-27  137.63  144.75  136.88  139.56  2492700\n2000-03-28  137.25  142.00  137.13  139.13  1812200\n2000-03-29  139.38  139.44  133.83  135.94  2141400\n2000-03-30  133.56  137.69  125.44  125.75  3700000\n2000-03-31  127.44  137.25  126.00  135.81  3612800\n2000-04-03  135.50  139.50  129.44  133.31  2933600\n2000-04-04  132.63  133.00  116.75  127.31  5895800\n2000-04-05  126.47  132.88  124.00  130.38  4086300",
      "text/html": "<div>\n<style scoped>\n    .dataframe tbody tr th:only-of-type {\n        vertical-align: middle;\n    }\n\n    .dataframe tbody tr th {\n        vertical-align: top;\n    }\n\n    .dataframe thead th {\n        text-align: right;\n    }\n</style>\n<table border=\"1\" class=\"dataframe\">\n  <thead>\n    <tr style=\"text-align: right;\">\n      <th></th>\n      <th>open</th>\n      <th>high</th>\n      <th>low</th>\n      <th>close</th>\n      <th>volume</th>\n    </tr>\n    <tr>\n      <th>date</th>\n      <th></th>\n      <th></th>\n      <th></th>\n      <th></th>\n      <th></th>\n    </tr>\n  </thead>\n  <tbody>\n    <tr>\n      <th>2000-03-23</th>\n      <td>142.00</td>\n      <td>150.38</td>\n      <td>140.00</td>\n      <td>141.31</td>\n      <td>5022900</td>\n    </tr>\n    <tr>\n      <th>2000-03-24</th>\n      <td>142.44</td>\n      <td>143.94</td>\n      <td>135.50</td>\n      <td>138.69</td>\n      <td>3990300</td>\n    </tr>\n    <tr>\n      <th>2000-03-27</th>\n      <td>137.63</td>\n      <td>144.75</td>\n      <td>136.88</td>\n      <td>139.56</td>\n      <td>2492700</td>\n    </tr>\n    <tr>\n      <th>2000-03-28</th>\n      <td>137.25</td>\n      <td>142.00</td>\n      <td>137.13</td>\n      <td>139.13</td>\n      <td>1812200</td>\n    </tr>\n    <tr>\n      <th>2000-03-29</th>\n      <td>139.38</td>\n      <td>139.44</td>\n      <td>133.83</td>\n      <td>135.94</td>\n      <td>2141400</td>\n    </tr>\n    <tr>\n      <th>2000-03-30</th>\n      <td>133.56</td>\n      <td>137.69</td>\n      <td>125.44</td>\n      <td>125.75</td>\n      <td>3700000</td>\n    </tr>\n    <tr>\n      <th>2000-03-31</th>\n      <td>127.44</td>\n      <td>137.25</td>\n      <td>126.00</td>\n      <td>135.81</td>\n      <td>3612800</td>\n    </tr>\n    <tr>\n      <th>2000-04-03</th>\n      <td>135.50</td>\n      <td>139.50</td>\n      <td>129.44</td>\n      <td>133.31</td>\n      <td>2933600</td>\n    </tr>\n    <tr>\n      <th>2000-04-04</th>\n      <td>132.63</td>\n      <td>133.00</td>\n      <td>116.75</td>\n      <td>127.31</td>\n      <td>5895800</td>\n    </tr>\n    <tr>\n      <th>2000-04-05</th>\n      <td>126.47</td>\n      <td>132.88</td>\n      <td>124.00</td>\n      <td>130.38</td>\n      <td>4086300</td>\n    </tr>\n  </tbody>\n</table>\n</div>"
     },
     "metadata": {},
     "execution_count": 3
    }
   ],
   "source": [
    "db_path = marketml.project_dir.joinpath(\"data/db/stocks.sqlite\")\n",
    "connection = sqlite3.connect(str(db_path))\n",
    "df = pd.read_sql_query(\n",
    "    'SELECT * FROM prices WHERE ticker=\"AAPL\"',\n",
    "    connection,\n",
    "    index_col=\"date\",\n",
    "    parse_dates=True\n",
    ")\n",
    "\n",
    "df.drop(columns=[\"ticker\", \"adjusted_close\", \"dividend_amount\", \"split_coefficient\"], inplace=True)\n",
    "df[\"volume\"].replace(to_replace=0, method=\"ffill\", inplace=True)\n",
    "df.sort_index(inplace=True)\n",
    "df.head(10)"
   ],
   "metadata": {
    "collapsed": false,
    "pycharm": {
     "name": "#%%\n"
    }
   }
  },
  {
   "cell_type": "code",
   "execution_count": 4,
   "outputs": [
    {
     "output_type": "error",
     "ename": "AttributeError",
     "evalue": "module 'plotly' has no attribute 'subplots'",
     "traceback": [
      "\u001B[0;31m---------------------------------------------------------------------------\u001B[0m",
      "\u001B[0;31mAttributeError\u001B[0m                            Traceback (most recent call last)",
      "\u001B[0;32m<ipython-input-4-3092247cf157>\u001B[0m in \u001B[0;36m<module>\u001B[0;34m\u001B[0m\n\u001B[0;32m----> 1\u001B[0;31m \u001B[0mfigure\u001B[0m \u001B[0;34m=\u001B[0m \u001B[0mplt\u001B[0m\u001B[0;34m.\u001B[0m\u001B[0msubplots\u001B[0m\u001B[0;34m.\u001B[0m\u001B[0mmake_subplots\u001B[0m\u001B[0;34m(\u001B[0m\u001B[0mrows\u001B[0m\u001B[0;34m=\u001B[0m\u001B[0;36m2\u001B[0m\u001B[0;34m,\u001B[0m \u001B[0mcols\u001B[0m\u001B[0;34m=\u001B[0m\u001B[0;36m1\u001B[0m\u001B[0;34m)\u001B[0m\u001B[0;34m\u001B[0m\u001B[0;34m\u001B[0m\u001B[0m\n\u001B[0m\u001B[1;32m      2\u001B[0m \u001B[0mfigure\u001B[0m\u001B[0;34m.\u001B[0m\u001B[0madd_scatter\u001B[0m\u001B[0;34m(\u001B[0m\u001B[0mx\u001B[0m\u001B[0;34m=\u001B[0m\u001B[0mdf\u001B[0m\u001B[0;34m.\u001B[0m\u001B[0mindex\u001B[0m\u001B[0;34m,\u001B[0m \u001B[0my\u001B[0m\u001B[0;34m=\u001B[0m\u001B[0mdf\u001B[0m\u001B[0;34m[\u001B[0m\u001B[0;34m\"close\"\u001B[0m\u001B[0;34m]\u001B[0m\u001B[0;34m,\u001B[0m \u001B[0mconnectgaps\u001B[0m\u001B[0;34m=\u001B[0m\u001B[0;32mTrue\u001B[0m\u001B[0;34m,\u001B[0m \u001B[0mrow\u001B[0m\u001B[0;34m=\u001B[0m\u001B[0;36m1\u001B[0m\u001B[0;34m,\u001B[0m \u001B[0mcol\u001B[0m\u001B[0;34m=\u001B[0m\u001B[0;36m1\u001B[0m\u001B[0;34m)\u001B[0m\u001B[0;34m\u001B[0m\u001B[0;34m\u001B[0m\u001B[0m\n\u001B[1;32m      3\u001B[0m \u001B[0mfigure\u001B[0m\u001B[0;34m.\u001B[0m\u001B[0madd_scatter\u001B[0m\u001B[0;34m(\u001B[0m\u001B[0mx\u001B[0m\u001B[0;34m=\u001B[0m\u001B[0mdf\u001B[0m\u001B[0;34m.\u001B[0m\u001B[0mindex\u001B[0m\u001B[0;34m,\u001B[0m \u001B[0my\u001B[0m\u001B[0;34m=\u001B[0m\u001B[0mdf\u001B[0m\u001B[0;34m[\u001B[0m\u001B[0;34m\"volume\"\u001B[0m\u001B[0;34m]\u001B[0m\u001B[0;34m,\u001B[0m \u001B[0mconnectgaps\u001B[0m\u001B[0;34m=\u001B[0m\u001B[0;32mTrue\u001B[0m\u001B[0;34m,\u001B[0m \u001B[0mrow\u001B[0m\u001B[0;34m=\u001B[0m\u001B[0;36m2\u001B[0m\u001B[0;34m,\u001B[0m \u001B[0mcol\u001B[0m\u001B[0;34m=\u001B[0m\u001B[0;36m1\u001B[0m\u001B[0;34m)\u001B[0m\u001B[0;34m\u001B[0m\u001B[0;34m\u001B[0m\u001B[0m\n\u001B[1;32m      4\u001B[0m \u001B[0mfigure\u001B[0m\u001B[0;34m.\u001B[0m\u001B[0mupdate_layout\u001B[0m\u001B[0;34m(\u001B[0m\u001B[0mtitle\u001B[0m\u001B[0;34m=\u001B[0m\u001B[0;34m\"AAPL Close Price and Trading Volume\"\u001B[0m\u001B[0;34m)\u001B[0m\u001B[0;34m\u001B[0m\u001B[0;34m\u001B[0m\u001B[0m\n",
      "\u001B[0;32m~/Code/virtual-environments/MarketML/lib/python3.8/site-packages/_plotly_utils/importers.py\u001B[0m in \u001B[0;36m__getattr__\u001B[0;34m(import_name)\u001B[0m\n\u001B[1;32m     37\u001B[0m             \u001B[0;32mreturn\u001B[0m \u001B[0mgetattr\u001B[0m\u001B[0;34m(\u001B[0m\u001B[0mclass_module\u001B[0m\u001B[0;34m,\u001B[0m \u001B[0mclass_name\u001B[0m\u001B[0;34m)\u001B[0m\u001B[0;34m\u001B[0m\u001B[0;34m\u001B[0m\u001B[0m\n\u001B[1;32m     38\u001B[0m \u001B[0;34m\u001B[0m\u001B[0m\n\u001B[0;32m---> 39\u001B[0;31m         raise AttributeError(\n\u001B[0m\u001B[1;32m     40\u001B[0m             \"module {__name__!r} has no attribute {name!r}\".format(\n\u001B[1;32m     41\u001B[0m                 \u001B[0mname\u001B[0m\u001B[0;34m=\u001B[0m\u001B[0mimport_name\u001B[0m\u001B[0;34m,\u001B[0m \u001B[0m__name__\u001B[0m\u001B[0;34m=\u001B[0m\u001B[0mparent_name\u001B[0m\u001B[0;34m\u001B[0m\u001B[0;34m\u001B[0m\u001B[0m\n",
      "\u001B[0;31mAttributeError\u001B[0m: module 'plotly' has no attribute 'subplots'"
     ]
    }
   ],
   "source": [
    "figure = plt.subplots.make_subplots(rows=2, cols=1)\n",
    "figure.add_scatter(x=df.index, y=df[\"close\"], connectgaps=True, row=1, col=1)\n",
    "figure.add_scatter(x=df.index, y=df[\"volume\"], connectgaps=True, row=2, col=1)\n",
    "figure.update_layout(title=\"AAPL Close Price and Trading Volume\")"
   ],
   "metadata": {
    "collapsed": false,
    "pycharm": {
     "name": "#%%\n"
    }
   }
  },
  {
   "cell_type": "code",
   "execution_count": 5,
   "outputs": [],
   "source": [
    "columns = df.columns\n",
    "for column in columns:\n",
    "    df[column] = df[column].pct_change()\n",
    "df.dropna(how=\"any\", axis=0, inplace=True)"
   ],
   "metadata": {
    "collapsed": false,
    "pycharm": {
     "name": "#%%\n"
    }
   }
  },
  {
   "cell_type": "code",
   "execution_count": 6,
   "outputs": [],
   "source": [
    "price_columns = columns.to_list()\n",
    "price_columns.pop(-1)\n",
    "min_return = min(df[price_columns].min(axis=0))\n",
    "max_return = max(df[price_columns].max(axis=0))\n",
    "delta_return = max_return-min_return\n",
    "\n",
    "min_volume = df[\"volume\"].min(axis=0)\n",
    "max_volume = df[\"volume\"].max(axis=0)\n",
    "delta_volume = max_volume-min_volume"
   ],
   "metadata": {
    "collapsed": false,
    "pycharm": {
     "name": "#%%\n"
    }
   }
  },
  {
   "cell_type": "code",
   "execution_count": 7,
   "outputs": [],
   "source": [
    "for column in price_columns:\n",
    "    df[column] = (df[column] - min_return) / delta_return\n",
    "df[\"volume\"] = (df[\"volume\"] - min_volume) / delta_volume"
   ],
   "metadata": {
    "collapsed": false,
    "pycharm": {
     "name": "#%%\n"
    }
   }
  },
  {
   "cell_type": "code",
   "execution_count": null,
   "outputs": [],
   "source": [
    "\n"
   ],
   "metadata": {
    "collapsed": false,
    "pycharm": {
     "name": "#%%\n"
    }
   }
  }
 ],
 "metadata": {
  "kernelspec": {
   "display_name": "Python 3.8.3 64-bit ('MarketML': venv)",
   "language": "python",
   "name": "python38364bitmarketmlvenv4872099efb0b470982b31ca2d2d88768"
  },
  "language_info": {
   "codemirror_mode": {
    "name": "ipython",
    "version": 2
   },
   "file_extension": ".py",
   "mimetype": "text/x-python",
   "name": "python",
   "nbconvert_exporter": "python",
   "pygments_lexer": "ipython2",
   "version": "3.8.3-final"
  }
 },
 "nbformat": 4,
 "nbformat_minor": 0
}